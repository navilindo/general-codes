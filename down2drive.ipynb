{
  "cells": [
    {
      "cell_type": "markdown",
      "metadata": {
        "id": "view-in-github",
        "colab_type": "text"
      },
      "source": [
        "<a href=\"https://colab.research.google.com/github/navilindo/general-codes/blob/main/down2drive.ipynb\" target=\"_parent\"><img src=\"https://colab.research.google.com/assets/colab-badge.svg\" alt=\"Open In Colab\"/></a>"
      ]
    },
    {
      "cell_type": "code",
      "execution_count": null,
      "metadata": {
        "colab": {
          "base_uri": "https://localhost:8080/"
        },
        "id": "n8BtjsXy91kl",
        "outputId": "045a94d2-2429-4f7f-e000-e4ab26b63e61"
      },
      "outputs": [
        {
          "output_type": "stream",
          "name": "stdout",
          "text": [
            "Drive already mounted at /content/drive; to attempt to forcibly remount, call drive.mount(\"/content/drive\", force_remount=True).\n"
          ]
        }
      ],
      "source": [
        "from google.colab import drive\n",
        "#drive.mount('/content/gdrive')  original code..\n",
        "drive.mount('/content/drive')"
      ]
    },
    {
      "cell_type": "code",
      "source": [
        ""
      ],
      "metadata": {
        "colab": {
          "base_uri": "https://localhost:8080/",
          "height": 35
        },
        "id": "xQ-rTYXHTXU5",
        "outputId": "4778ff76-93be-42e4-e767-65f01b4deb04"
      },
      "execution_count": null,
      "outputs": [
        {
          "output_type": "execute_result",
          "data": {
            "application/vnd.google.colaboratory.intrinsic+json": {
              "type": "string"
            },
            "text/plain": [
              "'/content'"
            ]
          },
          "metadata": {},
          "execution_count": 8
        }
      ]
    },
    {
      "cell_type": "code",
      "execution_count": null,
      "metadata": {
        "colab": {
          "base_uri": "https://localhost:8080/"
        },
        "id": "cincT94GGLEY",
        "outputId": "c9309e2b-b8e2-4406-a062-209e41242658"
      },
      "outputs": [
        {
          "name": "stdout",
          "output_type": "stream",
          "text": [
            "enter URL : file-url-goes-here\n"
          ]
        }
      ],
      "source": [
        "fileurl = input(\"enter URL : \")"
      ]
    },
    {
      "cell_type": "code",
      "execution_count": null,
      "metadata": {
        "id": "cuJdOnbBF3o2"
      },
      "outputs": [],
      "source": [
        "import requests\n",
        "file_url = \"%s\" % fileurl\n",
        "\t\n",
        "r = requests.get(file_url, stream = True)\n",
        "#put name (full path) of the file btn brackets\n",
        "with open(\"/content/drive/MyDrive/Colab Notebooks/path-to-file/name-of-file", \"wb\") as file:\n",
        "\tfor block in r.iter_content(chunk_size = 1024):\n",
        "\t\tif block:\n",
        "\t\t\tfile.write(block)"
      ]
    },
    {
      "cell_type": "code",
      "source": [
        "#extraction of the zipped files\n",
        "!unzip \"/content/drive/MyDrive/Colab Notebooks/path-of-the-file\"\n"
      ],
      "metadata": {
        "colab": {
          "base_uri": "https://localhost:8080/"
        },
        "id": "u55slVCGdGV-",
        "outputId": "b45e0517-1f8c-43c9-eb30-0558302606bb"
      },
      "execution_count": null,
      "outputs": [
        {
          "output_type": "stream",
          "name": "stdout",
          "text": [
            "Archive:  /content/drive/MyDrive/Colab Notebooks/path-to-file\n",
            
          ]
        }
      ]
    },
    {
      "cell_type": "code",
      "source": [
        ""
      ],
      "metadata": {
        "colab": {
          "base_uri": "https://localhost:8080/"
        },
        "id": "wXHy03-fd2WZ",
        "outputId": "7a3f73cb-df3d-4b27-812e-393dba59d78b"
      },
      "execution_count": null,
      "outputs": [
        {
          "output_type": "stream",
          "name": "stdout",
          "text": [
            "/content/drive/MyDrive/Colab Notebooks/path-to-file\n"
          ]
        }
      ]
    }
  ],
  "metadata": {
    "colab": {
      "name": "down2drive.ipynb",
      "provenance": [],
      "collapsed_sections": [],
      "mount_file_id": "1vn4b9PXGQsSasZ0GjX1bGdv_tpJeB71m",
      "authorship_tag": "ABX9TyOXeSoKXkZyx3xe+qPot3Ef",
      "include_colab_link": true
    },
    "kernelspec": {
      "display_name": "Python 3",
      "name": "python3"
    },
    "language_info": {
      "name": "python"
    }
  },
  "nbformat": 4,
  "nbformat_minor": 0
}
